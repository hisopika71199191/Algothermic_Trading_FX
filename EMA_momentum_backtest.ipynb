{
 "cells": [
  {
   "cell_type": "markdown",
   "metadata": {},
   "source": [
    "# EMA Trend Momentum Backtest \n",
    "\n",
    "### Descriptions\n",
    "\n",
    "- Data source: [histdata.com](http://www.histdata.com) \n",
    "- Product: USD/CHF \n",
    "- Data format: a tabular time series data with 6 months 1-minute intervals, (201708 to 201801)  \n",
    "- Fields: 'times', 'instrument', 'bid', 'ask', 'mid'\n",
    "\n",
    "\n"
   ]
  },
  {
   "cell_type": "code",
   "execution_count": null,
   "metadata": {
    "collapsed": true
   },
   "outputs": [],
   "source": [
    "#import libraries\n",
    "import pandas as pd\n",
    "import numpy as np"
   ]
  },
  {
   "cell_type": "code",
   "execution_count": null,
   "metadata": {
    "collapsed": true
   },
   "outputs": [],
   "source": [
    "#Instruments\n",
    "instruments=['USD_CHF']"
   ]
  },
  {
   "cell_type": "code",
   "execution_count": null,
   "metadata": {
    "collapsed": true
   },
   "outputs": [],
   "source": [
    "##consolidate the .csv data download from histdata.com\n",
    "#function of consolidation\n",
    "def consolidate_bid_ask(instrument,date):\n",
    "   #remember to change to your own path or read/write files\n",
    "   bid = pd.read_csv('C:\\\\Users\\\\hisop\\\\Desktop\\\\MATHS&IT\\\\Project\\\\OANDA\\\\data\\\\'+instrument+\"\\\\DAT_NT_\"+instrument.replace('_','')+\"_T_BID_\"+date+'.csv', sep=';',header = None, names=['times','bid','instrument'])\n",
    "   bid['times']=pd.to_datetime(bid['times'])\n",
    "   bid['times']=bid['times'].apply(lambda x: x.replace(second=0))\n",
    "   bid.drop_duplicates(subset='times', keep='first', inplace=True)   \n",
    "   ask = pd.read_csv('C:\\\\Users\\\\hisop\\\\Desktop\\\\MATHS&IT\\\\Project\\\\OANDA\\\\data\\\\'+instrument+\"\\\\DAT_NT_\"+instrument.replace('_','')+\"_T_ASK_\"+date+'.csv', sep=';',header = None,names=['times','ask','instrument'])\n",
    "   ask['times']=pd.to_datetime(ask['times'])\n",
    "   ask['times']=ask['times'].apply(lambda x: x.replace(second=0))\n",
    "   ask.drop_duplicates(subset='times', keep='first', inplace=True)\n",
    "   data = bid.merge(ask,on=['times','instrument'],copy=False)\n",
    "   #data['mid']=(data['bid']+data['ask'])/2\n",
    "   data['instrument']=instrument\n",
    "   data['ask']=ask['ask'].values\n",
    "   data['bid']=bid['bid'].values\n",
    "   return data\n",
    "\n"
   ]
  },
  {
   "cell_type": "code",
   "execution_count": null,
   "metadata": {},
   "outputs": [],
   "source": [
    "#Consolidate the files\n",
    "date=['201708','201709','201710','201711','201712','201801']\n",
    "b=pd.DataFrame({'instrument':[],'times':[],'bid':[],'ask':[]})\n",
    "for i in date:\n",
    "    a=consolidate_bid_ask('USD_CHF',i)\n",
    "    b=b.append(a[['instrument','times','bid','ask']])\n",
    "    USD_CHF=b\n",
    "USD_CHF.sort_values(by='times',inplace=True)\n",
    "USD_CHF.to_csv('C:\\\\Users\\\\hisop\\\\Desktop\\\\MATHS&IT\\\\Project\\\\OANDA\\\\data\\\\USD_CHF\\\\USD_CHF.csv',index=False,header=True)"
   ]
  },
  {
   "cell_type": "code",
   "execution_count": null,
   "metadata": {},
   "outputs": [],
   "source": [
    "#Take a look on the dataset\n",
    "USD_CHF['mid']=(USD_CHF['bid']+USD_CHF['ask']) #This backtest I just used the mid price\n",
    "USD_CHF.head()"
   ]
  },
  {
   "cell_type": "code",
   "execution_count": null,
   "metadata": {
    "collapsed": true
   },
   "outputs": [],
   "source": [
    "##Functions to calculate EMA and the backtest\n",
    "\n",
    "def read_data(data,i): #data precrocessing\n",
    "                            #Reference to my KNN_PriceReturnsPrediction_Sample.py,which has this function                             \n",
    "    data_0=data\n",
    "    data_0[\"mid\"] =(data_0[\"bid\"] + data_0[\"ask\"])/2\n",
    "    data_0.columns=[\"instrument\",\"times\",instruments[i]+\"_bid\",instruments[i]+\"_ask\",instruments[i]+\"_mid\"]\n",
    "    data_0.drop('instrument', axis=1, inplace=True)\n",
    "    return data_0\n",
    "    \n",
    "def ema(dataset,field, n,i):\n",
    "    df=dataset[instruments[i]+\"_\"+field]\n",
    "    df=pd.DataFrame(df)\n",
    "    EMA =pd.ewma(df, span = n, min_periods = n - 1) \n",
    "    return EMA\n",
    "def ema_diff(dataset,field, n_1,n_2,i):\n",
    "    cross=ema(dataset,field,n_1,i)-ema(dataset,field,n_2,i)       \n",
    "    return cross\n",
    "\n",
    "def backtest(dataset,i):\n",
    "    table=pd.DataFrame(np.zeros(shape=(dataset.shape[0],4)))\n",
    "    table.columns=[[\"StartPrice_0\",\"EndPrice_0\",\"position_0\",\"PNL_0\"]]\n",
    "    table['times']=dataset['times'].values\n",
    "    table['mid']=dataset[instruments[i]+'_'+'mid'].values\n",
    "    table['ema_diff']=ema_diff(dataset,'mid', 9,26,0).values # Parameters: short-EMA:9(mins), long-EMA:26(mins),which is\n",
    "                                                             #the default setting provided by OANDA EMA indicators\n",
    "    table.dropna(inplace=True)\n",
    "    table.reset_index(inplace=True)\n",
    "    label=0     \n",
    "    for j in range(1,table.shape[0]):\n",
    "        if (table.loc[j,'ema_diff']>0) & (table.shift(1).loc[j,'ema_diff']<=0):\n",
    "            label=1\n",
    "        elif (table.loc[j,'ema_diff']<0) & (table.shift(1).loc[j,'ema_diff']>=0):\n",
    "            label=-1\n",
    "        else:\n",
    "            label=0               \n",
    "            \n",
    "        if (label == 1) & (table.loc[j-1,'position_0']==0):\n",
    "            print('open + position')\n",
    "            table.loc[(j+1):table.shape[0],\"StartPrice_0\"]=table.loc[j,'mid']\n",
    "            table.loc[(j):table.shape[0],\"position_0\"]=1\n",
    "        elif (label == -1) & (table.loc[j-1,'position_0']==0):\n",
    "            print('open - position')\n",
    "            table.loc[(j+1):table.shape[0],\"StartPrice_0\"]=table.loc[j,'mid']\n",
    "            table.loc[(j):table.shape[0],\"position_0\"]=-1               \n",
    "        elif (label == 0) & (table.loc[j-1,'position_0'] !=0) | (i==table.shape[0]):\n",
    "            print('close all position')\n",
    "            table.loc[(j):table.shape[0],\"EndPrice_0\"]=table.loc[j,'mid']\n",
    "            table.loc[(j):table.shape[0],\"PNL_0\"]+=10000*20+10000*20*((table.loc[j,'EndPrice_0']-table.loc[j,'StartPrice_0'])/table.loc[j,'StartPrice_0'])*table.loc[j-1,\"position_0\"]-10000*20    \n",
    "            table.loc[(j):table.shape[0],\"position_0\"]=0\n",
    "        elif (label != table.loc[j-1,'position_0']) & (table.loc[j-1,'position_0'] != 0) & (label != 0):\n",
    "            print('reverse position')\n",
    "            table.loc[(j):table.shape[0],\"EndPrice_0\"]=table.loc[j,'mid']\n",
    "            table.loc[(j):table.shape[0],\"PNL_0\"]+=10000*20+10000*20*((table.loc[j,'EndPrice_0']-table.loc[j,'StartPrice_0'])/table.loc[j,'StartPrice_0'])*table.loc[j-1,\"position_0\"]-10000*20    \n",
    "            table.loc[(j+1):table.shape[0],\"StartPrice_0\"]=table.loc[j,'mid']\n",
    "            table.loc[(j):table.shape[0],\"position_0\"]= label\n",
    "        else:\n",
    "            print('do nothing')\n",
    "        print(table.shape[0]-j)    \n",
    "    return table\n"
   ]
  },
  {
   "cell_type": "code",
   "execution_count": null,
   "metadata": {},
   "outputs": [],
   "source": [
    "#Output\n",
    "data=read_data(USD_CHF,0)\n",
    "table=backtest(data,0)\n",
    "table.to_csv('C:\\\\Users\\\\hisop\\\\Desktop\\\\USD_CHF.csv',index=False)"
   ]
  },
  {
   "cell_type": "code",
   "execution_count": 29,
   "metadata": {},
   "outputs": [
    {
     "data": {
      "text/html": [
       "<div>\n",
       "<style>\n",
       "    .dataframe thead tr:only-child th {\n",
       "        text-align: right;\n",
       "    }\n",
       "\n",
       "    .dataframe thead th {\n",
       "        text-align: left;\n",
       "    }\n",
       "\n",
       "    .dataframe tbody tr th {\n",
       "        vertical-align: top;\n",
       "    }\n",
       "</style>\n",
       "<table border=\"1\" class=\"dataframe\">\n",
       "  <thead>\n",
       "    <tr style=\"text-align: right;\">\n",
       "      <th></th>\n",
       "      <th>index</th>\n",
       "      <th>StartPrice_0</th>\n",
       "      <th>EndPrice_0</th>\n",
       "      <th>position_0</th>\n",
       "      <th>PNL_0</th>\n",
       "      <th>times</th>\n",
       "      <th>mid</th>\n",
       "      <th>ema_diff</th>\n",
       "    </tr>\n",
       "  </thead>\n",
       "  <tbody>\n",
       "    <tr>\n",
       "      <th>0</th>\n",
       "      <td>24</td>\n",
       "      <td>0.0</td>\n",
       "      <td>0.0</td>\n",
       "      <td>0.0</td>\n",
       "      <td>0.0</td>\n",
       "      <td>2017-08-01 00:23:00</td>\n",
       "      <td>0.966835</td>\n",
       "      <td>0.000017</td>\n",
       "    </tr>\n",
       "    <tr>\n",
       "      <th>1</th>\n",
       "      <td>25</td>\n",
       "      <td>0.0</td>\n",
       "      <td>0.0</td>\n",
       "      <td>0.0</td>\n",
       "      <td>0.0</td>\n",
       "      <td>2017-08-01 00:24:00</td>\n",
       "      <td>0.966860</td>\n",
       "      <td>0.000021</td>\n",
       "    </tr>\n",
       "    <tr>\n",
       "      <th>2</th>\n",
       "      <td>26</td>\n",
       "      <td>0.0</td>\n",
       "      <td>0.0</td>\n",
       "      <td>0.0</td>\n",
       "      <td>0.0</td>\n",
       "      <td>2017-08-01 00:25:00</td>\n",
       "      <td>0.966930</td>\n",
       "      <td>0.000033</td>\n",
       "    </tr>\n",
       "    <tr>\n",
       "      <th>3</th>\n",
       "      <td>27</td>\n",
       "      <td>0.0</td>\n",
       "      <td>0.0</td>\n",
       "      <td>0.0</td>\n",
       "      <td>0.0</td>\n",
       "      <td>2017-08-01 00:26:00</td>\n",
       "      <td>0.966930</td>\n",
       "      <td>0.000041</td>\n",
       "    </tr>\n",
       "    <tr>\n",
       "      <th>4</th>\n",
       "      <td>28</td>\n",
       "      <td>0.0</td>\n",
       "      <td>0.0</td>\n",
       "      <td>0.0</td>\n",
       "      <td>0.0</td>\n",
       "      <td>2017-08-01 00:27:00</td>\n",
       "      <td>0.966875</td>\n",
       "      <td>0.000039</td>\n",
       "    </tr>\n",
       "  </tbody>\n",
       "</table>\n",
       "</div>"
      ],
      "text/plain": [
       "   index  StartPrice_0  EndPrice_0  position_0  PNL_0                times  \\\n",
       "0     24           0.0         0.0         0.0    0.0  2017-08-01 00:23:00   \n",
       "1     25           0.0         0.0         0.0    0.0  2017-08-01 00:24:00   \n",
       "2     26           0.0         0.0         0.0    0.0  2017-08-01 00:25:00   \n",
       "3     27           0.0         0.0         0.0    0.0  2017-08-01 00:26:00   \n",
       "4     28           0.0         0.0         0.0    0.0  2017-08-01 00:27:00   \n",
       "\n",
       "        mid  ema_diff  \n",
       "0  0.966835  0.000017  \n",
       "1  0.966860  0.000021  \n",
       "2  0.966930  0.000033  \n",
       "3  0.966930  0.000041  \n",
       "4  0.966875  0.000039  "
      ]
     },
     "execution_count": 29,
     "metadata": {},
     "output_type": "execute_result"
    }
   ],
   "source": [
    "table=pd.read_csv('C:\\\\Users\\\\hisop\\\\Desktop\\\\USD_CHF.csv')\n",
    "table.head()"
   ]
  },
  {
   "cell_type": "code",
   "execution_count": 32,
   "metadata": {},
   "outputs": [
    {
     "data": {
      "text/plain": [
       "<matplotlib.axes._subplots.AxesSubplot at 0x24e15d549b0>"
      ]
     },
     "execution_count": 32,
     "metadata": {},
     "output_type": "execute_result"
    },
    {
     "data": {
      "image/png": "[encoded data removed]",
      "text/plain": [
       "<matplotlib.figure.Figure at 0x24e1773de80>"
      ]
     },
     "metadata": {},
     "output_type": "display_data"
    }
   ],
   "source": [
    "##PNL visualization\n",
    "%matplotlib inline\n",
    "table['PNL_0'].plot()\n"
   ]
  },
  {
   "cell_type": "markdown",
   "metadata": {},
   "source": [
    "# Conclusions\n",
    "\n",
    "- Unfoturnately the results are bad although I have not expected it has a good result.**\n",
    "- The reason I did this backtest is that one day I saw the OANDA trading GUI providing the EMA indcators with fixed parameters:(9,26) so was curious to do backtest.   \n",
    "\n",
    "## Suggestions\n",
    "- Although the backtest result is not ideal, you can tune the EMA parameters or change other FX products so that the results can be improve. You can easily redo the backtest using the code above.\n",
    "\n",
    "- I did not consider the transaction cost in this backtest. You can include it by adding the cost term  to the PNL calculation logic inside the backtest function: \n",
    "    - e.g. table.loc[(j):table.shape[0],\"PNL_0\"]+=10000*20+10000*20*((table.loc[j,'EndPrice_0']-t\n",
    "       able.loc[j,'StartPrice_0'])/table.loc[j,'StartPrice_0'])*table.loc[j-1,\"position_0\"]-__cost__-10000*20\n",
    "       "
   ]
  },
  {
   "cell_type": "code",
   "execution_count": null,
   "metadata": {
    "collapsed": true
   },
   "outputs": [],
   "source": []
  },
  {
   "cell_type": "code",
   "execution_count": null,
   "metadata": {
    "collapsed": true
   },
   "outputs": [],
   "source": []
  }
 ],
 "metadata": {
  "kernelspec": {
   "display_name": "Python 3",
   "language": "python",
   "name": "python3"
  },
  "language_info": {
   "codemirror_mode": {
    "name": "ipython",
    "version": 3
   },
   "file_extension": ".py",
   "mimetype": "text/x-python",
   "name": "python",
   "nbconvert_exporter": "python",
   "pygments_lexer": "ipython3",
   "version": "3.6.3"
  }
 },
 "nbformat": 4,
 "nbformat_minor": 2
}
